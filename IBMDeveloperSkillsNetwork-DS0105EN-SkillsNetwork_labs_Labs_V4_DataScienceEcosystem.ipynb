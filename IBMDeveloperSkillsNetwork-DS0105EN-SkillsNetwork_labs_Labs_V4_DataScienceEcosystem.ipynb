{
  "metadata": {
    "language_info": {
      "codemirror_mode": {
        "name": "python",
        "version": 3
      },
      "file_extension": ".py",
      "mimetype": "text/x-python",
      "name": "python",
      "nbconvert_exporter": "python",
      "pygments_lexer": "ipython3",
      "version": "3.8"
    },
    "kernelspec": {
      "name": "python",
      "display_name": "Pyolite",
      "language": "python"
    }
  },
  "nbformat_minor": 4,
  "nbformat": 4,
  "cells": [
    {
      "cell_type": "markdown",
      "source": "# Data Science Tools and Ecosystem",
      "metadata": {}
    },
    {
      "cell_type": "markdown",
      "source": "In this notebook, Data Science Tools and Ecosystem are summarized.",
      "metadata": {}
    },
    {
      "cell_type": "markdown",
      "source": "Some of the popular languages that Data Scientists use are:",
      "metadata": {}
    },
    {
      "cell_type": "markdown",
      "source": "1. R\n2. Python\n3. Java",
      "metadata": {}
    },
    {
      "cell_type": "markdown",
      "source": "Some of the commonly used libraries used by Data Scientists include:",
      "metadata": {}
    },
    {
      "cell_type": "markdown",
      "source": "1. TensorFlow\n2. NumPy\n3. SciPy",
      "metadata": {}
    },
    {
      "cell_type": "markdown",
      "source": "Data Science Tools",
      "metadata": {}
    },
    {
      "cell_type": "markdown",
      "source": "| Data Science Tools |\n| --- |\n| NumPy |\n| Jupyter Notebook |\n| Tableau |",
      "metadata": {}
    },
    {
      "cell_type": "markdown",
      "source": "### Below are a few examples of evaluating arithmetic expressions in Python",
      "metadata": {}
    },
    {
      "cell_type": "code",
      "source": "# This a simple arithmetic expression to mutiply then add integers\n(3*4)+5",
      "metadata": {
        "trusted": true
      },
      "execution_count": 1,
      "outputs": [
        {
          "execution_count": 1,
          "output_type": "execute_result",
          "data": {
            "text/plain": "17"
          },
          "metadata": {}
        }
      ]
    },
    {
      "cell_type": "markdown",
      "source": "### Minutes into hours",
      "metadata": {}
    },
    {
      "cell_type": "code",
      "source": "# This will convert 200 minutes to hours by diving by 60\ndivmod(200, 60)",
      "metadata": {
        "trusted": true
      },
      "execution_count": 14,
      "outputs": [
        {
          "execution_count": 14,
          "output_type": "execute_result",
          "data": {
            "text/plain": "(3, 20)"
          },
          "metadata": {}
        }
      ]
    },
    {
      "cell_type": "markdown",
      "source": "<b>Objectives:</b>",
      "metadata": {}
    },
    {
      "cell_type": "markdown",
      "source": "- Identify in which Kernel your Jupyter notebook is running\n- Create headings, and add text in bold and italics in Markdown\n- Insert links and images using Markdown\n- Create Tables in Markdown\n- Create ordered and unordered lists in Markdown\n- Demonstrate your proficiency in using Markdown in Jupyter notebooks\n",
      "metadata": {}
    },
    {
      "cell_type": "markdown",
      "source": "## Author\nSanjeewa Wijayawickrama",
      "metadata": {}
    },
    {
      "cell_type": "code",
      "source": "",
      "metadata": {},
      "execution_count": null,
      "outputs": []
    }
  ]
}